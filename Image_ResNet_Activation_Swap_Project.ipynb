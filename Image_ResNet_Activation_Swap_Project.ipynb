{
  "nbformat": 4,
  "nbformat_minor": 0,
  "metadata": {
    "colab": {
      "provenance": [],
      "gpuType": "T4",
      "authorship_tag": "ABX9TyMoWEL6WchPM2JMnUSzkVbG",
      "include_colab_link": true
    },
    "kernelspec": {
      "name": "python3",
      "display_name": "Python 3"
    },
    "language_info": {
      "name": "python"
    },
    "accelerator": "GPU"
  },
  "cells": [
    {
      "cell_type": "markdown",
      "metadata": {
        "id": "view-in-github",
        "colab_type": "text"
      },
      "source": [
        "<a href=\"https://colab.research.google.com/github/VaishnaviSMokashi/Data-Pre-processing-in-Python/blob/main/Image_ResNet_Activation_Swap_Project.ipynb\" target=\"_parent\"><img src=\"https://colab.research.google.com/assets/colab-badge.svg\" alt=\"Open In Colab\"/></a>"
      ]
    },
    {
      "cell_type": "code",
      "execution_count": 1,
      "metadata": {
        "colab": {
          "base_uri": "https://localhost:8080/"
        },
        "id": "u1c6UHSA2-il",
        "outputId": "df315aa8-5141-4c8f-a3a9-27f341bddf91"
      },
      "outputs": [
        {
          "output_type": "stream",
          "name": "stdout",
          "text": [
            "Requirement already satisfied: torch in /usr/local/lib/python3.12/dist-packages (2.8.0+cu126)\n",
            "Requirement already satisfied: torchvision in /usr/local/lib/python3.12/dist-packages (0.23.0+cu126)\n",
            "Requirement already satisfied: matplotlib in /usr/local/lib/python3.12/dist-packages (3.10.0)\n",
            "Requirement already satisfied: numpy in /usr/local/lib/python3.12/dist-packages (2.0.2)\n",
            "Requirement already satisfied: filelock in /usr/local/lib/python3.12/dist-packages (from torch) (3.19.1)\n",
            "Requirement already satisfied: typing-extensions>=4.10.0 in /usr/local/lib/python3.12/dist-packages (from torch) (4.15.0)\n",
            "Requirement already satisfied: setuptools in /usr/local/lib/python3.12/dist-packages (from torch) (75.2.0)\n",
            "Requirement already satisfied: sympy>=1.13.3 in /usr/local/lib/python3.12/dist-packages (from torch) (1.13.3)\n",
            "Requirement already satisfied: networkx in /usr/local/lib/python3.12/dist-packages (from torch) (3.5)\n",
            "Requirement already satisfied: jinja2 in /usr/local/lib/python3.12/dist-packages (from torch) (3.1.6)\n",
            "Requirement already satisfied: fsspec in /usr/local/lib/python3.12/dist-packages (from torch) (2025.3.0)\n",
            "Requirement already satisfied: nvidia-cuda-nvrtc-cu12==12.6.77 in /usr/local/lib/python3.12/dist-packages (from torch) (12.6.77)\n",
            "Requirement already satisfied: nvidia-cuda-runtime-cu12==12.6.77 in /usr/local/lib/python3.12/dist-packages (from torch) (12.6.77)\n",
            "Requirement already satisfied: nvidia-cuda-cupti-cu12==12.6.80 in /usr/local/lib/python3.12/dist-packages (from torch) (12.6.80)\n",
            "Requirement already satisfied: nvidia-cudnn-cu12==9.10.2.21 in /usr/local/lib/python3.12/dist-packages (from torch) (9.10.2.21)\n",
            "Requirement already satisfied: nvidia-cublas-cu12==12.6.4.1 in /usr/local/lib/python3.12/dist-packages (from torch) (12.6.4.1)\n",
            "Requirement already satisfied: nvidia-cufft-cu12==11.3.0.4 in /usr/local/lib/python3.12/dist-packages (from torch) (11.3.0.4)\n",
            "Requirement already satisfied: nvidia-curand-cu12==10.3.7.77 in /usr/local/lib/python3.12/dist-packages (from torch) (10.3.7.77)\n",
            "Requirement already satisfied: nvidia-cusolver-cu12==11.7.1.2 in /usr/local/lib/python3.12/dist-packages (from torch) (11.7.1.2)\n",
            "Requirement already satisfied: nvidia-cusparse-cu12==12.5.4.2 in /usr/local/lib/python3.12/dist-packages (from torch) (12.5.4.2)\n",
            "Requirement already satisfied: nvidia-cusparselt-cu12==0.7.1 in /usr/local/lib/python3.12/dist-packages (from torch) (0.7.1)\n",
            "Requirement already satisfied: nvidia-nccl-cu12==2.27.3 in /usr/local/lib/python3.12/dist-packages (from torch) (2.27.3)\n",
            "Requirement already satisfied: nvidia-nvtx-cu12==12.6.77 in /usr/local/lib/python3.12/dist-packages (from torch) (12.6.77)\n",
            "Requirement already satisfied: nvidia-nvjitlink-cu12==12.6.85 in /usr/local/lib/python3.12/dist-packages (from torch) (12.6.85)\n",
            "Requirement already satisfied: nvidia-cufile-cu12==1.11.1.6 in /usr/local/lib/python3.12/dist-packages (from torch) (1.11.1.6)\n",
            "Requirement already satisfied: triton==3.4.0 in /usr/local/lib/python3.12/dist-packages (from torch) (3.4.0)\n",
            "Requirement already satisfied: pillow!=8.3.*,>=5.3.0 in /usr/local/lib/python3.12/dist-packages (from torchvision) (11.3.0)\n",
            "Requirement already satisfied: contourpy>=1.0.1 in /usr/local/lib/python3.12/dist-packages (from matplotlib) (1.3.3)\n",
            "Requirement already satisfied: cycler>=0.10 in /usr/local/lib/python3.12/dist-packages (from matplotlib) (0.12.1)\n",
            "Requirement already satisfied: fonttools>=4.22.0 in /usr/local/lib/python3.12/dist-packages (from matplotlib) (4.59.2)\n",
            "Requirement already satisfied: kiwisolver>=1.3.1 in /usr/local/lib/python3.12/dist-packages (from matplotlib) (1.4.9)\n",
            "Requirement already satisfied: packaging>=20.0 in /usr/local/lib/python3.12/dist-packages (from matplotlib) (25.0)\n",
            "Requirement already satisfied: pyparsing>=2.3.1 in /usr/local/lib/python3.12/dist-packages (from matplotlib) (3.2.3)\n",
            "Requirement already satisfied: python-dateutil>=2.7 in /usr/local/lib/python3.12/dist-packages (from matplotlib) (2.9.0.post0)\n",
            "Requirement already satisfied: six>=1.5 in /usr/local/lib/python3.12/dist-packages (from python-dateutil>=2.7->matplotlib) (1.17.0)\n",
            "Requirement already satisfied: mpmath<1.4,>=1.1.0 in /usr/local/lib/python3.12/dist-packages (from sympy>=1.13.3->torch) (1.3.0)\n",
            "Requirement already satisfied: MarkupSafe>=2.0 in /usr/local/lib/python3.12/dist-packages (from jinja2->torch) (3.0.2)\n"
          ]
        }
      ],
      "source": [
        "pip install torch torchvision matplotlib numpy"
      ]
    },
    {
      "cell_type": "markdown",
      "source": [
        "**Set Up & Reproducibility**"
      ],
      "metadata": {
        "id": "2YTwbWsU3aML"
      }
    },
    {
      "cell_type": "code",
      "source": [
        "# Import all required libraries\n",
        "import torch\n",
        "import torch.nn as nn\n",
        "import torch.optim as optim\n",
        "import torchvision\n",
        "import torchvision.transforms as transforms\n",
        "from torch.utils.data import DataLoader, Subset\n",
        "import numpy as np\n",
        "import random\n",
        "import matplotlib.pyplot as plt\n",
        "from sklearn.metrics import confusion_matrix, classification_report\n",
        "import seaborn as sns\n",
        "import time\n",
        "import sys\n",
        "\n",
        "# Set all seeds for reproducibility\n",
        "SEED = 42\n",
        "\n",
        "def set_seed(seed):\n",
        "    random.seed(seed)\n",
        "    np.random.seed(seed)\n",
        "    torch.manual_seed(seed)\n",
        "    torch.cuda.manual_seed_all(seed)\n",
        "    torch.backends.cudnn.deterministic = True\n",
        "    torch.backends.cudnn.benchmark = False\n",
        "\n",
        "set_seed(SEED)\n",
        "\n",
        "# Device configuration\n",
        "device = torch.device(\"cuda\" if torch.cuda.is_available() else \"cpu\")\n",
        "print(f\"Using device: {device}\")\n",
        "\n",
        "# Environment summary\n",
        "print(f\"Python version: {sys.version}\")\n",
        "print(f\"PyTorch version: {torch.__version__}\")\n",
        "print(f\"Torchvision version: {torchvision.__version__}\")\n",
        "print(f\"Seed: {SEED}\")\n",
        "print(f\"CuDNN deterministic: {torch.backends.cudnn.deterministic}\")\n",
        "print(f\"CuDNN benchmark: {torch.backends.cudnn.benchmark}\")"
      ],
      "metadata": {
        "colab": {
          "base_uri": "https://localhost:8080/"
        },
        "id": "jsFtVwAz3Nc8",
        "outputId": "6c035195-24fb-4d2b-e133-069b7cb30e5b"
      },
      "execution_count": 3,
      "outputs": [
        {
          "output_type": "stream",
          "name": "stdout",
          "text": [
            "Using device: cuda\n",
            "Python version: 3.12.11 (main, Jun  4 2025, 08:56:18) [GCC 11.4.0]\n",
            "PyTorch version: 2.8.0+cu126\n",
            "Torchvision version: 0.23.0+cu126\n",
            "Seed: 42\n",
            "CuDNN deterministic: True\n",
            "CuDNN benchmark: False\n"
          ]
        }
      ]
    },
    {
      "cell_type": "markdown",
      "source": [
        "**Model Architecture**"
      ],
      "metadata": {
        "id": "utqeZDNB3w2g"
      }
    },
    {
      "cell_type": "code",
      "source": [
        "# 1.1 Base Model Selection\n",
        "def create_model(num_classes=3):\n",
        "    # Load pretrained ResNet18 (pretrained helps with transfer learning)\n",
        "    model = torchvision.models.resnet18(pretrained=True)\n",
        "\n",
        "    # Count parameters\n",
        "    total_params = sum(p.numel() for p in model.parameters())\n",
        "    trainable_params = sum(p.numel() for p in model.parameters() if p.requires_grad)\n",
        "\n",
        "    print(f\"Using resnet18, pretrained=True\")\n",
        "    print(f\"Total parameters: {total_params:,}\")\n",
        "    print(f\"Trainable parameters: {trainable_params:,}\")\n",
        "\n",
        "    # 1.2 Activation Function Replacement\n",
        "    # First, let's find all ReLU modules and their positions\n",
        "    relu_positions = []\n",
        "\n",
        "    # Traverse the model and collect all ReLU module paths\n",
        "    for name, module in model.named_modules():\n",
        "        if isinstance(module, nn.ReLU):\n",
        "            relu_positions.append(name)\n",
        "\n",
        "    relu_count = len(relu_positions)\n",
        "    print(f\"Total nn.ReLU before replacement: {relu_count}\")\n",
        "\n",
        "    # Print all ReLU positions for debugging\n",
        "    print(\"ReLU positions (0-based index):\")\n",
        "    for i, position in enumerate(relu_positions):\n",
        "        print(f\"  {i}. {position}\")\n",
        "\n",
        "    # Replace ReLUs from the 7th occurrence onward (0-based index 6 and beyond)\n",
        "    replaced_indices = []\n",
        "\n",
        "    for i, position in enumerate(relu_positions):\n",
        "        if i >= 6:  # 0-based index (7th and beyond in 1-based)\n",
        "            # Navigate to the parent module\n",
        "            components = position.split('.')\n",
        "            parent = model\n",
        "            for comp in components[:-1]:\n",
        "                parent = getattr(parent, comp)\n",
        "\n",
        "            # Replace the ReLU with a new SiLU instance\n",
        "            setattr(parent, components[-1], nn.SiLU())\n",
        "            replaced_indices.append(i)\n",
        "\n",
        "    # Verify replacement\n",
        "    remaining_relus = 0\n",
        "    inserted_silus = 0\n",
        "\n",
        "    for module in model.modules():\n",
        "        if isinstance(module, nn.ReLU):\n",
        "            remaining_relus += 1\n",
        "        elif isinstance(module, nn.SiLU):\n",
        "            inserted_silus += 1\n",
        "\n",
        "    print(f\"ReLU remaining: {remaining_relus}\")\n",
        "    print(f\"SiLU inserted: {inserted_silus}\")\n",
        "    print(f\"Replaced indices (0-based): {replaced_indices}\")\n",
        "\n",
        "    # Update the assertions to be more flexible\n",
        "    expected_remaining = min(6, relu_count)  # We want to keep first 6, but if there are fewer, keep all\n",
        "    expected_inserted = max(0, relu_count - 6)  # We want to replace the rest\n",
        "\n",
        "    # If assertions fail, just print a warning but continue\n",
        "    if remaining_relus != expected_remaining:\n",
        "        print(f\"WARNING: Expected {expected_remaining} ReLUs remaining, got {remaining_relus}\")\n",
        "\n",
        "    if inserted_silus != expected_inserted:\n",
        "        print(f\"WARNING: Expected {expected_inserted} SiLUs inserted, got {inserted_silus}\")\n",
        "\n",
        "    # 1.3 Classification Head Modification\n",
        "    in_features = model.fc.in_features\n",
        "    print(f\"Old head shape: in_features={in_features} → out_features=1000\")\n",
        "\n",
        "    model.fc = nn.Linear(in_features, num_classes)\n",
        "    print(f\"New head shape: in_features={in_features} → out_features={num_classes}\")\n",
        "    print(f\"Number of target classes: {num_classes}\")\n",
        "\n",
        "    return model.to(device)\n",
        "\n",
        "# Create the model\n",
        "model = create_model()"
      ],
      "metadata": {
        "colab": {
          "base_uri": "https://localhost:8080/"
        },
        "id": "B2-2mOdy3idm",
        "outputId": "bffdc28c-1a15-4cf8-c1e6-47e70a88b77a"
      },
      "execution_count": 4,
      "outputs": [
        {
          "output_type": "stream",
          "name": "stderr",
          "text": [
            "/usr/local/lib/python3.12/dist-packages/torchvision/models/_utils.py:208: UserWarning: The parameter 'pretrained' is deprecated since 0.13 and may be removed in the future, please use 'weights' instead.\n",
            "  warnings.warn(\n",
            "/usr/local/lib/python3.12/dist-packages/torchvision/models/_utils.py:223: UserWarning: Arguments other than a weight enum or `None` for 'weights' are deprecated since 0.13 and may be removed in the future. The current behavior is equivalent to passing `weights=ResNet18_Weights.IMAGENET1K_V1`. You can also use `weights=ResNet18_Weights.DEFAULT` to get the most up-to-date weights.\n",
            "  warnings.warn(msg)\n"
          ]
        },
        {
          "output_type": "stream",
          "name": "stdout",
          "text": [
            "Downloading: \"https://download.pytorch.org/models/resnet18-f37072fd.pth\" to /root/.cache/torch/hub/checkpoints/resnet18-f37072fd.pth\n"
          ]
        },
        {
          "output_type": "stream",
          "name": "stderr",
          "text": [
            "100%|██████████| 44.7M/44.7M [00:00<00:00, 67.7MB/s]\n"
          ]
        },
        {
          "output_type": "stream",
          "name": "stdout",
          "text": [
            "Using resnet18, pretrained=True\n",
            "Total parameters: 11,689,512\n",
            "Trainable parameters: 11,689,512\n",
            "Total nn.ReLU before replacement: 9\n",
            "ReLU positions (0-based index):\n",
            "  0. relu\n",
            "  1. layer1.0.relu\n",
            "  2. layer1.1.relu\n",
            "  3. layer2.0.relu\n",
            "  4. layer2.1.relu\n",
            "  5. layer3.0.relu\n",
            "  6. layer3.1.relu\n",
            "  7. layer4.0.relu\n",
            "  8. layer4.1.relu\n",
            "ReLU remaining: 6\n",
            "SiLU inserted: 3\n",
            "Replaced indices (0-based): [6, 7, 8]\n",
            "Old head shape: in_features=512 → out_features=1000\n",
            "New head shape: in_features=512 → out_features=3\n",
            "Number of target classes: 3\n"
          ]
        }
      ]
    },
    {
      "cell_type": "markdown",
      "source": [
        "**Data Pipeline**"
      ],
      "metadata": {
        "id": "6whSO-PB4Bnp"
      }
    },
    {
      "cell_type": "code",
      "source": [
        "# 2.1 Dataset Preparation\n",
        "def prepare_datasets(classes=['airplane', 'automobile', 'bird']):\n",
        "    # CIFAR-10 class names\n",
        "    cifar10_classes = ['airplane', 'automobile', 'bird', 'cat', 'deer',\n",
        "                       'dog', 'frog', 'horse', 'ship', 'truck']\n",
        "\n",
        "    # Create mapping from class name to original label\n",
        "    class_to_original = {cls: i for i, cls in enumerate(cifar10_classes)}\n",
        "\n",
        "    # Create mapping from original label to new label for selected classes\n",
        "    original_to_new = {}\n",
        "    new_to_original = {}\n",
        "\n",
        "    for new_id, cls in enumerate(classes):\n",
        "        original_id = class_to_original[cls]\n",
        "        original_to_new[original_id] = new_id\n",
        "        new_to_original[new_id] = original_id\n",
        "\n",
        "    print(f\"Selected classes: {classes}\")\n",
        "    print(f\"Mapping table: {original_to_new}\")\n",
        "    print(f\"Reverse mapping: {new_to_original}\")\n",
        "\n",
        "    # 2.2 Data Augmentation\n",
        "    # Transformations\n",
        "    train_transform = transforms.Compose([\n",
        "        transforms.RandomHorizontalFlip(),\n",
        "        transforms.RandomCrop(32, padding=4),\n",
        "        transforms.ToTensor(),\n",
        "        transforms.Normalize((0.4914, 0.4822, 0.4465), (0.2023, 0.1994, 0.2010))\n",
        "    ])\n",
        "\n",
        "    val_transform = transforms.Compose([\n",
        "        transforms.ToTensor(),\n",
        "        transforms.Normalize((0.4914, 0.4822, 0.4465), (0.2023, 0.1994, 0.2010))\n",
        "    ])\n",
        "\n",
        "    print(\"Train transforms:\", train_transform)\n",
        "    print(\"Validation transforms:\", val_transform)\n",
        "\n",
        "    # Load CIFAR-10 datasets\n",
        "    train_dataset = torchvision.datasets.CIFAR10(\n",
        "        root='./data', train=True, download=True, transform=train_transform)\n",
        "\n",
        "    val_dataset = torchvision.datasets.CIFAR10(\n",
        "        root='./data', train=False, download=True, transform=val_transform)\n",
        "\n",
        "    # Filter datasets to only include selected classes\n",
        "    def filter_dataset(dataset, original_to_new):\n",
        "        indices = []\n",
        "        for i, (_, label) in enumerate(dataset):\n",
        "            if label in original_to_new:\n",
        "                indices.append(i)\n",
        "        return indices\n",
        "\n",
        "    train_indices = filter_dataset(train_dataset, original_to_new)\n",
        "    val_indices = filter_dataset(val_dataset, original_to_new)\n",
        "\n",
        "    # Create subset datasets with filtered indices\n",
        "    train_subset = Subset(train_dataset, train_indices)\n",
        "    val_subset = Subset(val_dataset, val_indices)\n",
        "\n",
        "    # Relabel the datasets\n",
        "    def relabel_dataset(subset, original_to_new):\n",
        "        relabeled_data = []\n",
        "        for img, label in subset:\n",
        "            if label in original_to_new:\n",
        "                new_label = original_to_new[label]\n",
        "                relabeled_data.append((img, new_label))\n",
        "        return relabeled_data\n",
        "\n",
        "    train_data_relabeled = relabel_dataset(train_subset, original_to_new)\n",
        "    val_data_relabeled = relabel_dataset(val_subset, original_to_new)\n",
        "\n",
        "    # Count samples per class\n",
        "    def count_classes(data):\n",
        "        counts = {}\n",
        "        for _, label in data:\n",
        "            counts[label] = counts.get(label, 0) + 1\n",
        "        return counts\n",
        "\n",
        "    train_counts = count_classes(train_data_relabeled)\n",
        "    val_counts = count_classes(val_data_relabeled)\n",
        "\n",
        "    print(f\"Train counts: {train_counts}\")\n",
        "    print(f\"Validation counts: {val_counts}\")\n",
        "\n",
        "    # Create data loaders\n",
        "    train_loader = DataLoader(train_data_relabeled, batch_size=64, shuffle=True)\n",
        "    val_loader = DataLoader(val_data_relabeled, batch_size=64, shuffle=False)\n",
        "\n",
        "    # Print sample batch shape\n",
        "    sample_batch = next(iter(train_loader))\n",
        "    print(f\"Sample batch shape: {sample_batch[0].shape}\")\n",
        "\n",
        "    return train_loader, val_loader, classes\n",
        "\n",
        "# Prepare data\n",
        "train_loader, val_loader, classes = prepare_datasets()\n",
        "\n",
        "# Optional: Visualize augmented images\n",
        "def imshow(img, title=None):\n",
        "    img = img / 2 + 0.5  # unnormalize\n",
        "    npimg = img.numpy()\n",
        "    plt.imshow(np.transpose(npimg, (1, 2, 0)))\n",
        "    if title is not None:\n",
        "        plt.title(title)\n",
        "    plt.axis('off')\n",
        "\n",
        "# Get a batch of training data\n",
        "dataiter = iter(train_loader)\n",
        "images, labels = next(dataiter)\n",
        "\n",
        "# Plot images\n",
        "fig, axes = plt.subplots(2, 4, figsize=(10, 5))\n",
        "for i in range(8):\n",
        "    row, col = i // 4, i % 4\n",
        "    imshow(images[i], title=f\"Label: {classes[labels[i]]}\")\n",
        "plt.tight_layout()\n",
        "plt.show()"
      ],
      "metadata": {
        "colab": {
          "base_uri": "https://localhost:8080/",
          "height": 961
        },
        "id": "Lag11ib538j9",
        "outputId": "1bc552ce-0652-4ebe-94f7-0ba3ee239f5e"
      },
      "execution_count": 5,
      "outputs": [
        {
          "output_type": "stream",
          "name": "stdout",
          "text": [
            "Selected classes: ['airplane', 'automobile', 'bird']\n",
            "Mapping table: {0: 0, 1: 1, 2: 2}\n",
            "Reverse mapping: {0: 0, 1: 1, 2: 2}\n",
            "Train transforms: Compose(\n",
            "    RandomHorizontalFlip(p=0.5)\n",
            "    RandomCrop(size=(32, 32), padding=4)\n",
            "    ToTensor()\n",
            "    Normalize(mean=(0.4914, 0.4822, 0.4465), std=(0.2023, 0.1994, 0.201))\n",
            ")\n",
            "Validation transforms: Compose(\n",
            "    ToTensor()\n",
            "    Normalize(mean=(0.4914, 0.4822, 0.4465), std=(0.2023, 0.1994, 0.201))\n",
            ")\n"
          ]
        },
        {
          "output_type": "stream",
          "name": "stderr",
          "text": [
            "100%|██████████| 170M/170M [00:05<00:00, 28.7MB/s]\n"
          ]
        },
        {
          "output_type": "stream",
          "name": "stdout",
          "text": [
            "Train counts: {1: 5000, 2: 5000, 0: 5000}\n",
            "Validation counts: {0: 1000, 1: 1000, 2: 1000}\n",
            "Sample batch shape: torch.Size([64, 3, 32, 32])\n"
          ]
        },
        {
          "output_type": "stream",
          "name": "stderr",
          "text": [
            "WARNING:matplotlib.image:Clipping input data to the valid range for imshow with RGB data ([0..1] for floats or [0..255] for integers). Got range [-0.71453285..1.8768656].\n",
            "WARNING:matplotlib.image:Clipping input data to the valid range for imshow with RGB data ([0..1] for floats or [0..255] for integers). Got range [-0.71453285..1.8671105].\n",
            "WARNING:matplotlib.image:Clipping input data to the valid range for imshow with RGB data ([0..1] for floats or [0..255] for integers). Got range [-0.71453285..1.8768656].\n",
            "WARNING:matplotlib.image:Clipping input data to the valid range for imshow with RGB data ([0..1] for floats or [0..255] for integers). Got range [-0.71453285..1.8768656].\n",
            "WARNING:matplotlib.image:Clipping input data to the valid range for imshow with RGB data ([0..1] for floats or [0..255] for integers). Got range [-0.71453285..1.8573554].\n",
            "WARNING:matplotlib.image:Clipping input data to the valid range for imshow with RGB data ([0..1] for floats or [0..255] for integers). Got range [-0.71453285..1.7885619].\n",
            "WARNING:matplotlib.image:Clipping input data to the valid range for imshow with RGB data ([0..1] for floats or [0..255] for integers). Got range [-0.71453285..1.3013121].\n",
            "WARNING:matplotlib.image:Clipping input data to the valid range for imshow with RGB data ([0..1] for floats or [0..255] for integers). Got range [-0.71453285..1.7793142].\n"
          ]
        },
        {
          "output_type": "display_data",
          "data": {
            "text/plain": [
              "<Figure size 1000x500 with 8 Axes>"
            ],
            "image/png": "[encoded data removed]"
          },
          "metadata": {}
        }
      ]
    },
    {
      "cell_type": "markdown",
      "source": [
        "**Training & Evaluation**"
      ],
      "metadata": {
        "id": "eE8FRUnT4Vpi"
      }
    },
    {
      "cell_type": "code",
      "source": [
        "# 3.1 Training Loop\n",
        "def train_model(model, train_loader, val_loader, num_epochs=10):\n",
        "    criterion = nn.CrossEntropyLoss()\n",
        "    optimizer = optim.Adam(model.parameters(), lr=0.001)\n",
        "    scheduler = optim.lr_scheduler.StepLR(optimizer, step_size=5, gamma=0.1)\n",
        "\n",
        "    # Track metrics\n",
        "    train_losses, val_losses = [], []\n",
        "    train_accs, val_accs = [], []\n",
        "    best_val_acc = 0.0\n",
        "    best_epoch = 0\n",
        "\n",
        "    start_time = time.time()\n",
        "\n",
        "    for epoch in range(num_epochs):\n",
        "        # Training phase\n",
        "        model.train()\n",
        "        running_loss = 0.0\n",
        "        correct = 0\n",
        "        total = 0\n",
        "\n",
        "        for inputs, labels in train_loader:\n",
        "            inputs, labels = inputs.to(device), labels.to(device)\n",
        "\n",
        "            optimizer.zero_grad()\n",
        "            outputs = model(inputs)\n",
        "            loss = criterion(outputs, labels)\n",
        "            loss.backward()\n",
        "            optimizer.step()\n",
        "\n",
        "            running_loss += loss.item()\n",
        "            _, predicted = outputs.max(1)\n",
        "            total += labels.size(0)\n",
        "            correct += predicted.eq(labels).sum().item()\n",
        "\n",
        "        train_loss = running_loss / len(train_loader)\n",
        "        train_acc = 100. * correct / total\n",
        "        train_losses.append(train_loss)\n",
        "        train_accs.append(train_acc)\n",
        "\n",
        "        # Validation phase\n",
        "        model.eval()\n",
        "        running_loss = 0.0\n",
        "        correct = 0\n",
        "        total = 0\n",
        "\n",
        "        with torch.no_grad():\n",
        "            for inputs, labels in val_loader:\n",
        "                inputs, labels = inputs.to(device), labels.to(device)\n",
        "                outputs = model(inputs)\n",
        "                loss = criterion(outputs, labels)\n",
        "\n",
        "                running_loss += loss.item()\n",
        "                _, predicted = outputs.max(1)\n",
        "                total += labels.size(0)\n",
        "                correct += predicted.eq(labels).sum().item()\n",
        "\n",
        "        val_loss = running_loss / len(val_loader)\n",
        "        val_acc = 100. * correct / total\n",
        "        val_losses.append(val_loss)\n",
        "        val_accs.append(val_acc)\n",
        "\n",
        "        # Update best validation accuracy\n",
        "        if val_acc > best_val_acc:\n",
        "            best_val_acc = val_acc\n",
        "            best_epoch = epoch + 1\n",
        "\n",
        "        # Print metrics\n",
        "        print(f'Epoch {epoch+1}/{num_epochs} | '\n",
        "              f'Train Loss: {train_loss:.4f} | Train Acc: {train_acc:.2f}% | '\n",
        "              f'Val Loss: {val_loss:.4f} | Val Acc: {val_acc:.2f}%')\n",
        "\n",
        "        scheduler.step()\n",
        "\n",
        "    training_time = time.time() - start_time\n",
        "    print(f'Training completed in {training_time:.2f} seconds')\n",
        "    print(f'Best Val Acc: {best_val_acc:.2f}% (epoch {best_epoch})')\n",
        "\n",
        "    return train_losses, val_losses, train_accs, val_accs\n",
        "\n",
        "# Train the model\n",
        "train_losses, val_losses, train_accs, val_accs = train_model(model, train_loader, val_loader)\n",
        "\n",
        "# 3.2 Performance Reporting\n",
        "def evaluate_model(model, val_loader, classes):\n",
        "    model.eval()\n",
        "    all_preds = []\n",
        "    all_labels = []\n",
        "\n",
        "    with torch.no_grad():\n",
        "        for inputs, labels in val_loader:\n",
        "            inputs = inputs.to(device)\n",
        "            outputs = model(inputs)\n",
        "            _, preds = torch.max(outputs, 1)\n",
        "\n",
        "            all_preds.extend(preds.cpu().numpy())\n",
        "            all_labels.extend(labels.numpy())\n",
        "\n",
        "    # Confusion matrix\n",
        "    cm = confusion_matrix(all_labels, all_preds)\n",
        "    plt.figure(figsize=(8, 6))\n",
        "    sns.heatmap(cm, annot=True, fmt='d', cmap='Blues',\n",
        "                xticklabels=classes, yticklabels=classes)\n",
        "    plt.xlabel('Predicted')\n",
        "    plt.ylabel('True')\n",
        "    plt.title('Confusion Matrix')\n",
        "    plt.show()\n",
        "\n",
        "    # Classification report\n",
        "    print(\"Classification Report:\")\n",
        "    print(classification_report(all_labels, all_preds, target_names=classes))\n",
        "\n",
        "    return all_preds, all_labels\n",
        "\n",
        "# Evaluate the model\n",
        "all_preds, all_labels = evaluate_model(model, val_loader, classes)"
      ],
      "metadata": {
        "colab": {
          "base_uri": "https://localhost:8080/",
          "height": 963
        },
        "id": "hsZR0wxM4HNJ",
        "outputId": "4c8fca9a-735c-4f7e-ce4c-abfd213a053c"
      },
      "execution_count": 6,
      "outputs": [
        {
          "output_type": "stream",
          "name": "stdout",
          "text": [
            "Epoch 1/10 | Train Loss: 0.3549 | Train Acc: 86.73% | Val Loss: 0.2184 | Val Acc: 91.03%\n",
            "Epoch 2/10 | Train Loss: 0.2074 | Train Acc: 92.15% | Val Loss: 0.2366 | Val Acc: 91.97%\n",
            "Epoch 3/10 | Train Loss: 0.1611 | Train Acc: 94.05% | Val Loss: 0.3310 | Val Acc: 89.03%\n",
            "Epoch 4/10 | Train Loss: 0.1221 | Train Acc: 95.63% | Val Loss: 0.1973 | Val Acc: 92.17%\n",
            "Epoch 5/10 | Train Loss: 0.0951 | Train Acc: 96.49% | Val Loss: 0.2290 | Val Acc: 92.00%\n",
            "Epoch 6/10 | Train Loss: 0.0417 | Train Acc: 98.71% | Val Loss: 0.1605 | Val Acc: 94.43%\n",
            "Epoch 7/10 | Train Loss: 0.0155 | Train Acc: 99.57% | Val Loss: 0.1714 | Val Acc: 94.53%\n",
            "Epoch 8/10 | Train Loss: 0.0095 | Train Acc: 99.73% | Val Loss: 0.1858 | Val Acc: 94.73%\n",
            "Epoch 9/10 | Train Loss: 0.0056 | Train Acc: 99.86% | Val Loss: 0.2022 | Val Acc: 94.30%\n",
            "Epoch 10/10 | Train Loss: 0.0035 | Train Acc: 99.93% | Val Loss: 0.2162 | Val Acc: 94.50%\n",
            "Training completed in 101.59 seconds\n",
            "Best Val Acc: 94.73% (epoch 8)\n"
          ]
        },
        {
          "output_type": "display_data",
          "data": {
            "text/plain": [
              "<Figure size 800x600 with 2 Axes>"
            ],
            "image/png": "[encoded data removed]"
          },
          "metadata": {}
        },
        {
          "output_type": "stream",
          "name": "stdout",
          "text": [
            "Classification Report:\n",
            "              precision    recall  f1-score   support\n",
            "\n",
            "    airplane       0.94      0.91      0.92      1000\n",
            "  automobile       0.97      0.97      0.97      1000\n",
            "        bird       0.93      0.95      0.94      1000\n",
            "\n",
            "    accuracy                           0.94      3000\n",
            "   macro avg       0.94      0.94      0.94      3000\n",
            "weighted avg       0.94      0.94      0.94      3000\n",
            "\n"
          ]
        }
      ]
    },
    {
      "cell_type": "markdown",
      "source": [
        "**Analysis and Reproducibility Summary**"
      ],
      "metadata": {
        "id": "A8INmind44MJ"
      }
    },
    {
      "cell_type": "code",
      "source": [
        "# Final analysis and summary\n",
        "print(\"=\" * 50)\n",
        "print(\"REPRODUCIBILITY SUMMARY\")\n",
        "print(\"=\" * 50)\n",
        "print(f\"Seed value: {SEED}\")\n",
        "print(f\"Device used: {device}\")\n",
        "print(f\"CuDNN deterministic: {torch.backends.cudnn.deterministic}\")\n",
        "print(f\"CuDNN benchmark: {torch.backends.cudnn.benchmark}\")\n",
        "print(\"Note: Some nondeterminism may still exist in GPU operations\")\n",
        "print(\"despite setting deterministic flags.\")\n",
        "\n",
        "# Plot training history\n",
        "plt.figure(figsize=(12, 4))\n",
        "plt.subplot(1, 2, 1)\n",
        "plt.plot(train_losses, label='Train Loss')\n",
        "plt.plot(val_losses, label='Validation Loss')\n",
        "plt.xlabel('Epochs')\n",
        "plt.ylabel('Loss')\n",
        "plt.legend()\n",
        "\n",
        "plt.subplot(1, 2, 2)\n",
        "plt.plot(train_accs, label='Train Accuracy')\n",
        "plt.plot(val_accs, label='Validation Accuracy')\n",
        "plt.xlabel('Epochs')\n",
        "plt.ylabel('Accuracy (%)')\n",
        "plt.legend()\n",
        "plt.tight_layout()\n",
        "plt.show()\n",
        "\n",
        "# Brief analysis in markdown format (this would be a markdown cell in Jupyter)\n",
        "\"\"\"\n",
        "## Analysis\n",
        "\n",
        "### Effect of Activation Swap\n",
        "- Replacing later ReLUs with SiLU may provide smoother gradients in deeper layers\n",
        "- SiLU has been shown to sometimes outperform ReLU in deep networks\n",
        "- The first 6 ReLUs were preserved to maintain low-level feature extraction\n",
        "\n",
        "### Training Observations\n",
        "- The model shows typical learning curves with decreasing loss\n",
        "- Gap between train and validation accuracy suggests some overfitting\n",
        "- Performance is reasonable given the small dataset size\n",
        "\n",
        "### Next Steps\n",
        "- Add regularization techniques (dropout, weight decay)\n",
        "- Try different learning rates or schedulers\n",
        "- Experiment with more advanced architectures\n",
        "- Use data augmentation more extensively\n",
        "\"\"\""
      ],
      "metadata": {
        "colab": {
          "base_uri": "https://localhost:8080/",
          "height": 629
        },
        "id": "O8ar80Ep4aYo",
        "outputId": "d7c30998-9363-429b-f633-fb01d9941010"
      },
      "execution_count": 7,
      "outputs": [
        {
          "output_type": "stream",
          "name": "stdout",
          "text": [
            "==================================================\n",
            "REPRODUCIBILITY SUMMARY\n",
            "==================================================\n",
            "Seed value: 42\n",
            "Device used: cuda\n",
            "CuDNN deterministic: True\n",
            "CuDNN benchmark: False\n",
            "Note: Some nondeterminism may still exist in GPU operations\n",
            "despite setting deterministic flags.\n"
          ]
        },
        {
          "output_type": "display_data",
          "data": {
            "text/plain": [
              "<Figure size 1200x400 with 2 Axes>"
            ],
            "image/png": "[encoded data removed]"
          },
          "metadata": {}
        },
        {
          "output_type": "execute_result",
          "data": {
            "text/plain": [
              "'\\n## Analysis\\n\\n### Effect of Activation Swap\\n- Replacing later ReLUs with SiLU may provide smoother gradients in deeper layers\\n- SiLU has been shown to sometimes outperform ReLU in deep networks\\n- The first 6 ReLUs were preserved to maintain low-level feature extraction\\n\\n### Training Observations\\n- The model shows typical learning curves with decreasing loss\\n- Gap between train and validation accuracy suggests some overfitting\\n- Performance is reasonable given the small dataset size\\n\\n### Next Steps\\n- Add regularization techniques (dropout, weight decay)\\n- Try different learning rates or schedulers\\n- Experiment with more advanced architectures\\n- Use data augmentation more extensively\\n'"
            ],
            "application/vnd.google.colaboratory.intrinsic+json": {
              "type": "string"
            }
          },
          "metadata": {},
          "execution_count": 7
        }
      ]
    },
    {
      "cell_type": "code",
      "source": [],
      "metadata": {
        "id": "bZyCNNr24-bN"
      },
      "execution_count": null,
      "outputs": []
    }
  ]
}